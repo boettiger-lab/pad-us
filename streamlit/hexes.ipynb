{
 "cells": [
  {
   "cell_type": "markdown",
   "id": "a70ecae6-ed3d-47ab-8450-f500ab2f0362",
   "metadata": {},
   "source": [
    "# Preprocessing"
   ]
  },
  {
   "cell_type": "code",
   "execution_count": null,
   "id": "59760595-9aaa-49ee-b825-09c0ffab9af2",
   "metadata": {},
   "outputs": [],
   "source": [
    "from cng.utils import *\n",
    "from cng.h3 import *\n",
    "from ibis import _\n",
    "import os\n",
    "from osgeo import gdal\n",
    "from minio import Minio\n",
    "import streamlit \n",
    "from datetime import timedelta\n",
    "import geopandas as gpd\n",
    "\n",
    "# Get signed URLs to access license-controlled layers\n",
    "key = st.secrets[\"MINIO_KEY\"]\n",
    "secret = st.secrets[\"MINIO_SECRET\"]\n",
    "client = Minio(\"minio.carlboettiger.info\", key, secret)\n",
    "\n",
    "con = ibis.duckdb.connect(extensions = [\"spatial\", \"h3\"])\n",
    "endpoint = os.getenv(\"AWS_S3_ENDPOINT\", \"minio.carlboettiger.info\")\n",
    "duckdb_install_h3()\n",
    "\n",
    "set_secrets(con)"
   ]
  },
  {
   "cell_type": "markdown",
   "id": "0b086a1a-af23-487b-923d-fca595a19111",
   "metadata": {},
   "source": [
    "#### Converting data to hexes at zoom 8"
   ]
  },
  {
   "cell_type": "code",
   "execution_count": null,
   "id": "498c7474-7ee6-48b0-8242-6d29a28841f6",
   "metadata": {},
   "outputs": [],
   "source": [
    "def h3_from_geom(con, name, cols, zoom = 8):\n",
    "    \"\"\"\n",
    "    Computes hexes directly from geometry.\n",
    "    \"\"\"\n",
    "    cols = \", \".join(cols) if isinstance(cols, list) else cols\n",
    "    con.raw_sql(f'''\n",
    "    CREATE OR REPLACE TEMP TABLE t2 AS\n",
    "    SELECT {cols},\n",
    "           h3_polygon_wkt_to_cells_string(ST_Force2D(dump.geom), {zoom}) AS h{zoom}\n",
    "    FROM (\n",
    "        SELECT {cols}, UNNEST(ST_Dump(geom)) AS dump\n",
    "        FROM {name}\n",
    "    )\n",
    "    ''')\n",
    "    \n",
    "    con.sql(f'''\n",
    "        SELECT {cols}, UNNEST(h{zoom}) AS h{zoom},\n",
    "        ST_GeomFromText(h3_cell_to_boundary_wkt(UNNEST(h{zoom}))) AS geom\n",
    "        FROM t2\n",
    "    ''').to_parquet(f\"{name}_h3_z{zoom}.parquet\")\n",
    "    return "
   ]
  },
  {
   "cell_type": "markdown",
   "id": "084a33f5-3647-40bc-9c03-f145c60b95d1",
   "metadata": {},
   "source": [
    "# TPL Conservation Almanac\n",
    "\n",
    "Hexing this data at zoom 8 level"
   ]
  },
  {
   "cell_type": "code",
   "execution_count": null,
   "id": "1afa510b-3434-4ded-88c7-e06844ee503e",
   "metadata": {},
   "outputs": [],
   "source": [
    "tpl = client.get_presigned_url(\n",
    "    \"GET\",\n",
    "    \"shared-tpl\",\n",
    "    \"tpl.parquet\",\n",
    "    expires=timedelta(hours=2),\n",
    ")\n",
    "\n",
    "cols = ['fid', 'TPL_ID', 'State', 'County', 'Municipality',\n",
    "       'Site_Name', 'Reported_Acres', 'Close_Year', 'Close_Date', 'Owner_Name',\n",
    "       'Owner_Type', 'Manager_Name', 'Manager_Type', 'Purchase_Type',\n",
    "       'EasementHolder_Name', 'EasementHolder_Type', 'Public_Access_Type',\n",
    "       'Purpose_Type', 'Duration_Type', 'Data_Provider', 'Data_Source',\n",
    "       'Source_Date', 'Data_Aggregator', 'Comments', 'Amount', 'Program_ID',\n",
    "       'Program_Name', 'Sponsor_ID', 'Sponsor_Name', 'Sponsor_Type']\n",
    "\n",
    "\n",
    "tpl_table = (con.read_parquet(tpl)\n",
    "             .mutate(geom = _.geom.convert(\"ESRI:102039\", \"EPSG:4326\"))\n",
    "            )\n",
    "\n",
    "con.create_table('tpl', tpl_table, overwrite=True)\n",
    "h3_from_geom(con, 'tpl', cols)\n",
    "\n",
    "client.fput_object(bucket_name = \"shared-tpl\",\n",
    "           object_name = \"tpl_h3_z8.parquet\",\n",
    "           file_path = \"tpl_h3_z8.parquet\") "
   ]
  },
  {
   "cell_type": "markdown",
   "id": "3f00cfe9-520c-4839-aeed-46a83b11ecce",
   "metadata": {},
   "source": [
    "# Census\n",
    "\n",
    "Getting polygons and FIPS codes from Census state, county, place, and subdivision data. \n",
    "\n",
    "#### State"
   ]
  },
  {
   "cell_type": "code",
   "execution_count": null,
   "id": "86d2ed94-740f-49cd-a041-50401b7c7984",
   "metadata": {},
   "outputs": [],
   "source": [
    "%%time\n",
    "# convert shape to parquet \n",
    "gdf = gpd.read_file('tl_2024_us_state.shp').to_crs('epsg:4326').rename_geometry('geom').rename(columns={\"GEOID\": \"FIPS\"})\n",
    "url = \"s3://public-census/state/2024_us_state.parquet\"\n",
    "con.create_table('state_wkt', gdf, overwrite=True).to_parquet(url)\n",
    "\n",
    "# get h3\n",
    "con.raw_sql(\"\"\"\n",
    "CREATE OR REPLACE TABLE state AS\n",
    "SELECT * EXCLUDE geom,\n",
    "  ST_GeomFromWKB(geom) AS geom\n",
    "FROM state_wkt\n",
    "\"\"\")\n",
    "\n",
    "cols = ['NAME','FIPS']\n",
    "h3_from_geom(con, 'state', cols)\n",
    "state_geo = con.table('state')\n"
   ]
  },
  {
   "cell_type": "code",
   "execution_count": null,
   "id": "68eed0c4-0a90-4812-ab6b-f9bd78c55c1d",
   "metadata": {
    "scrolled": true
   },
   "outputs": [],
   "source": [
    "state_url = \"https://www2.census.gov/geo/docs/reference/codes2020/national_state2020.txt\"\n",
    "state_fips = (con.read_csv(state_url)\n",
    "              .rename(name = \"STATE_NAME\", FIPS = \"STATEFP\")\n",
    "              .select(\"STATE\",\"name\",\"FIPS\"))\n",
    "\n",
    "state = state_fips.left_join(state_geo, 'FIPS')\n",
    "state.to_parquet(\"s3://public-census/state/2024_us_state_h3_z8.parquet\")"
   ]
  },
  {
   "cell_type": "markdown",
   "id": "c37ea182-ac50-4ee8-a14b-5dcbcb14a044",
   "metadata": {},
   "source": [
    "#### County"
   ]
  },
  {
   "cell_type": "code",
   "execution_count": null,
   "id": "96f3d43f-9ab8-4f3e-a981-51c5eca6f848",
   "metadata": {},
   "outputs": [],
   "source": [
    "%%time\n",
    "# convert shape to parquet \n",
    "gdf = gpd.read_file('tl_2024_us_county.shp').to_crs('epsg:4326').rename_geometry('geom').rename(columns={\"GEOID\": \"FIPS\"})\n",
    "url = \"s3://public-census/county/2024_us_county.parquet\"\n",
    "con.create_table('county_wkt', gdf, overwrite=True).to_parquet(url)\n",
    "\n",
    "# get h3\n",
    "con.raw_sql(\"\"\"\n",
    "CREATE OR REPLACE TABLE county AS\n",
    "SELECT * EXCLUDE geom,\n",
    "  ST_GeomFromWKB(geom) AS geom\n",
    "FROM county_wkt\n",
    "\"\"\")\n",
    "\n",
    "cols = ['NAMELSAD','FIPS']\n",
    "h3_from_geom(con, 'county', cols)\n",
    "county_geo = con.table('county')"
   ]
  },
  {
   "cell_type": "code",
   "execution_count": null,
   "id": "30358403-40b1-44fd-8bd3-b178c1ca321e",
   "metadata": {
    "scrolled": true
   },
   "outputs": [],
   "source": [
    "county_url = \"https://www2.census.gov/geo/docs/reference/codes2020/national_county2020.txt\"\n",
    "\n",
    "county_fips = (con.read_csv(county_url)\n",
    "               .rename(state = \"STATE\", county = \"COUNTYNAME\")\n",
    "               .mutate(name=_.county.re_replace(county_match_pattern, \"\").strip())\n",
    "               .mutate(FIPS = _.COUNTYFP + _.STATEFP)\n",
    "               .select(\"state\",\"name\",\"FIPS\"))\n",
    "\n",
    "county = county_fips.left_join(county_geo, 'FIPS')\n",
    "county.to_parquet(\"s3://public-census/county/2024_us_county_h3_z8.parquet\")"
   ]
  },
  {
   "cell_type": "markdown",
   "id": "9e703812-5369-4bb3-857f-37ed946168e7",
   "metadata": {},
   "source": [
    "#### Cities (places + subdivisions)\n",
    "\n",
    "Note: Some cities are listed in both \"Places\" and \"Subdivisions\", so we will use `distinct()` to avoid duplicates."
   ]
  },
  {
   "cell_type": "code",
   "execution_count": null,
   "id": "7a0e9a96-5fcb-409b-812c-b79f7a319eaa",
   "metadata": {},
   "outputs": [],
   "source": [
    "city_cols = [\"state\",\"county\",\"FIPS\",\"name\"]\n",
    "\n",
    "places_url = \"https://www2.census.gov/geo/docs/reference/codes2020/national_place_by_county2020.txt\"\n",
    "places_fips = (con.read_csv(places_url)\n",
    "               .rename(state = \"STATE\", county = \"COUNTYNAME\", city = \"PLACENAME\")\n",
    "               .mutate(name=_.city.re_replace(match_pattern, \"\").strip())\n",
    "               .mutate(FIPS = _.COUNTYFP + _.STATEFP)\n",
    "               .select(city_cols))\n",
    "\n",
    "subdivisions_url = \"https://www2.census.gov/geo/docs/reference/codes2020/national_cousub2020.txt\"\n",
    "subdivisions_fips = (con.read_csv(subdivisions_url)\n",
    "                     .rename(state = \"STATE\", county = \"COUNTYNAME\", city = \"COUSUBNAME\")\n",
    "                     .mutate(name=_.city.re_replace(match_pattern, \"\").strip())\n",
    "                     .mutate(FIPS = _.COUNTYFP + _.STATEFP)\n",
    "                     .select(city_cols))\n",
    "\n",
    "city_fips = places_fips.union(subdivisions_fips).distinct() #get unique -> some cities are listed in both places and subdivisions\n",
    "city = city_fips.left_join(county_geo, 'FIPS')\n",
    "city.to_parquet(\"s3://public-census/city/2024_us_city_h3_z8.parquet\")"
   ]
  },
  {
   "cell_type": "markdown",
   "id": "62511665-7859-4997-98d8-ae7c08b64f46",
   "metadata": {},
   "source": [
    "# Landvote\n",
    "\n",
    "We want to join Landvote data with TPL Conservation Almanac, but Landvote doesn't have spatial data.\n",
    "\n",
    "However, we can join Landvote with Census data to get FIPS codes and hexes. \n",
    "- First, need to split up landvote into its 3 jurisdictions: state, county, and municipals\n",
    "- Join states with Census \"states\" to get state FIPS/hex\n",
    "- Join counties with Census \"counties\" to get county FIPS/hex\n",
    "- Join municipals with Census \"places\" and \"subdivisions\" to get county FIPS/hex\n",
    "- Then join all municipal, county, and state data back together!\n",
    "\n"
   ]
  },
  {
   "cell_type": "code",
   "execution_count": null,
   "id": "793ba16f-b876-48f0-b1c1-1d2e1b1d3f3b",
   "metadata": {},
   "outputs": [],
   "source": [
    "landvote_csv = client.get_presigned_url(\n",
    "    \"GET\",\n",
    "    \"shared-tpl\",\n",
    "    \"landvote.csv\",\n",
    "    expires=timedelta(hours=2),\n",
    ")\n",
    "\n",
    "match_pattern = r\"(?i)\\s*(city|town|village|charter|municipality|Borough)\\b\"\n",
    "landvote = (con.read_csv(landvote_csv, ignore_errors=True)\n",
    "            .rename(jurisdiction = \"Jurisdiction Type\", state = \"State\")\n",
    "            .mutate(state = _.state.substitute({'Ore':'OR'}))\n",
    "            .mutate(name=_['Jurisdiction Name'].re_replace(match_pattern, \"\").strip())\n",
    "            .mutate(id=ibis.row_number().over()))\n",
    "\n",
    "final_columns = ['id',\n",
    "    'FIPS',\n",
    "    'state',\n",
    "    'state_name',\n",
    "    'county',\n",
    "    'city',\n",
    "    'jurisdiction',\n",
    "    'Date',\n",
    "    'Description',\n",
    "    'Finance Mechanism',\n",
    "    '\"Other\" Comment',\n",
    "    'Purpose',\n",
    "    'Total Funds at Stake',\n",
    "    'Conservation Funds at Stake',\n",
    "    'Total Funds Approved',\n",
    "    'Conservation Funds Approved',\n",
    "    'Pass?',\n",
    "    'Status',\n",
    "    '% Yes',\n",
    "    '% No',\n",
    "    'Notes',\n",
    "    'Voted Acq. Measure',\n",
    "    'geom',\n",
    "    'h8']"
   ]
  },
  {
   "cell_type": "markdown",
   "id": "da89e4e6-1845-4842-baa4-aa6908a1cde1",
   "metadata": {},
   "source": [
    "#### State level"
   ]
  },
  {
   "cell_type": "code",
   "execution_count": null,
   "id": "00bb7c0c-80bb-4d6d-9088-0877e365a324",
   "metadata": {},
   "outputs": [],
   "source": [
    "states = (landvote.filter(_.jurisdiction == \"State\")\n",
    "            .rename(state_name = \"Jurisdiction Name\")\n",
    "            .mutate(county = ibis.literal('None'))\n",
    "            .mutate(county_fips = ibis.literal('None'))\n",
    "            .mutate(city = ibis.literal('None')))\n",
    "\n",
    "landvote_state = (states.left_join(state_geo, [states.name.upper() == state_geo.name.upper()])\n",
    "                   .select(final_columns))\n",
    "\n",
    "#adding state ID and state name from the county/city\n",
    "state_ids = state_geo.select('name','STATE').rename(state_name = 'name')"
   ]
  },
  {
   "cell_type": "markdown",
   "id": "6202f31a-5868-4e74-951e-23acb49f0bc7",
   "metadata": {},
   "source": [
    "#### County level"
   ]
  },
  {
   "cell_type": "code",
   "execution_count": null,
   "id": "9a792367-dcab-4869-94b4-6343a3204e38",
   "metadata": {},
   "outputs": [],
   "source": [
    "county_match_pattern = r\"(?i)\\s*(County)\\b\"\n",
    "\n",
    "counties = (landvote.filter(_.jurisdiction == \"County\")\n",
    "            .rename(county = \"Jurisdiction Name\")\n",
    "            .mutate(city = ibis.literal('None'))\n",
    "            .mutate(name=_.name.re_replace(county_match_pattern, \"\").strip()))\n",
    "\n",
    "landvote_county = (counties.left_join(county_geo, [counties.name.upper() == county_geo.name.upper(), \n",
    "                                                    counties.state == county_geo.state])\n",
    "                   .inner_join(state_ids, [counties.state == state_ids.STATE])\n",
    "                   .select(final_columns))"
   ]
  },
  {
   "cell_type": "markdown",
   "id": "cca12e06-8d7f-4a50-906c-7dc02e370072",
   "metadata": {},
   "source": [
    "#### Municipal level\n",
    "\n",
    "Because there isn't a 1 to 1 match from municipals to Census data, we need to use both \"Places\" and \"Subdivisons\". "
   ]
  },
  {
   "cell_type": "code",
   "execution_count": null,
   "id": "aa81e457-00ba-4b01-86d7-cf46bec04edd",
   "metadata": {
    "scrolled": true
   },
   "outputs": [],
   "source": [
    "municipals = landvote.filter(_.jurisdiction == \"Municipal\").rename(city = \"Jurisdiction Name\")\n",
    "\n",
    "landvote_city = (municipals.left_join(city_geo, [municipals.name.upper() == city_geo.name.upper(), \n",
    "                                                  municipals.state == city_geo.state])\n",
    "                 .inner_join(state_ids, [municipals.state == state_ids.STATE])\n",
    "                 .select(final_columns))"
   ]
  },
  {
   "cell_type": "markdown",
   "id": "6d52d97b-ad14-4d04-89a8-79a813f80353",
   "metadata": {},
   "source": [
    "#### Joining all the landvote data with census\n",
    "Note: `landvote_joined` has more rows than `landvote` because some cities span multiple counties. Each additional county creates a new row."
   ]
  },
  {
   "cell_type": "code",
   "execution_count": null,
   "id": "6d481736-82f3-4be2-b5af-6280be5e9d75",
   "metadata": {},
   "outputs": [],
   "source": [
    "landvote_joined = landvote_city.union(landvote_county).union(landvote_state)\n",
    "landvote_joined.to_parquet(\"s3://shared-tpl/landvote_h3_z8.parquet\"))"
   ]
  }
 ],
 "metadata": {
  "kernelspec": {
   "display_name": "Python 3 (ipykernel)",
   "language": "python",
   "name": "python3"
  },
  "language_info": {
   "codemirror_mode": {
    "name": "ipython",
    "version": 3
   },
   "file_extension": ".py",
   "mimetype": "text/x-python",
   "name": "python",
   "nbconvert_exporter": "python",
   "pygments_lexer": "ipython3",
   "version": "3.12.10"
  }
 },
 "nbformat": 4,
 "nbformat_minor": 5
}
