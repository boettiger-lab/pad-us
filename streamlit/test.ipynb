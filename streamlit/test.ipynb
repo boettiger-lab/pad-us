{
 "cells": [
  {
   "cell_type": "code",
   "execution_count": null,
   "id": "f512c088-0f2e-4652-9596-0741a7159938",
   "metadata": {},
   "outputs": [],
   "source": [
    "import streamlit as st\n",
    "import leafmap.maplibregl as leafmap\n",
    "import ibis\n",
    "from ibis import _\n",
    "import os\n",
    "from cng.utils import *\n",
    "from cng.h3 import *\n",
    "from cng.maps import *\n",
    "\n",
    "con = ibis.duckdb.connect(extensions = [\"spatial\", \"h3\"])\n",
    "# install_h3(con)\n",
    "set_secrets(con)\n",
    "endpoint = os.environ[\"AWS_S3_ENDPOINT\"]\n",
    "\n",
    "\n",
    "## Initialize Data ##\n",
    "pad_pmtiles   = f\"https://{endpoint}/public-biodiversity/pad-us-4/pad-us-4.pmtiles\"\n",
    "tract_pmtiles = f\"https://{endpoint}/public-social-vulnerability/2022/SVI2022_US_tract.pmtiles\"\n",
    "pad_us    = con.read_parquet(f\"https://{endpoint}/public-biodiversity/pad-us-4/pad-us-4.parquet\").select(\"GAP_Sts\", \"Mang_Type\", \"row_n\", \"geom\", \"GIS_Acres\")\n",
    "tracts_z8 = con.read_parquet(f\"https://{endpoint}/public-social-vulnerability/2022-tracts-h3-z8.parquet\").mutate(h8 = _.h8.lower())\n",
    "pad_z8    = con.read_parquet(f\"https://{endpoint}/public-biodiversity/pad-us-4/pad-h3-z8.parquet\")\n",
    "mobi      = con.read_parquet(f\"https://{endpoint}/public-mobi/hex/all-richness-h8.parquet\").select( \"h8\", \"Z\").rename(richness = \"Z\")\n",
    "svi       = con.read_parquet(f\"https://{endpoint}/public-social-vulnerability/2022/SVI2022_US_tract.parquet\").select(\"FIPS\", \"RPL_THEMES\").filter(_.RPL_THEMES > 0)\n",
    "\n",
    "database = (tracts_z8\n",
    "  .left_join(mobi, \"h8\").drop(\"h8_right\")\n",
    "  .left_join(pad_z8, \"h8\").drop(\"h8_right\")\n",
    "  .inner_join(svi, \"FIPS\")\n",
    "  .left_join(pad_us, \"row_n\").drop(\"row_n_right\")\n",
    ")\n",
    "\n",
    "gap_codes=[\"1\", \"2\"]\n"
   ]
  },
  {
   "cell_type": "code",
   "execution_count": null,
   "id": "696bfac6-e919-4546-9420-b56e860d84f6",
   "metadata": {},
   "outputs": [],
   "source": []
  },
  {
   "cell_type": "code",
   "execution_count": null,
   "id": "be714bcb-28ed-45a3-a197-2b5f1472ba7e",
   "metadata": {},
   "outputs": [],
   "source": [
    "\n",
    "# some hexes can be covered by many protected area polygons...\n",
    "tracts_z8.count().execute()\n",
    "\n",
    "database.count().execute()\n",
    "\n",
    "database.group_by(_.h8).agg(n = _.count()).order_by(_.n.desc()).head().execute()\n",
    "\n",
    "database.filter(_.h8 == \"882aac8419fffff\").head(50).execute()"
   ]
  },
  {
   "cell_type": "code",
   "execution_count": null,
   "id": "6ef730d0-bc65-4fe4-92b1-5900d5b36fb1",
   "metadata": {},
   "outputs": [],
   "source": [
    "path = \"public-data/cache/tmp.csv\"\n",
    "database.filter(_.STATE == \"California\").drop(\"geom\").to_csv(f\"s3://{path}\")\n",
    "url = f\"https://{endpoint}/{path}\"\n"
   ]
  },
  {
   "cell_type": "code",
   "execution_count": null,
   "id": "a175f7b9-3bbf-49e3-b36b-bd0d65c39e9c",
   "metadata": {},
   "outputs": [],
   "source": [
    "\n",
    "\n",
    "# .to_json() doesn't exist in ibis, use SQL\n",
    "subset = database.filter(_.STATE == \"California\").drop(\"geom\").mutate(\n",
    "        rgb_color=ibis.case()\n",
    "        .when(_.GAP_Sts == '1', '[38, 51, 61]')\n",
    "        .when(_.GAP_Sts == '2', '[135, 150, 71]')\n",
    "        .when(_.GAP_Sts == '3', '[189, 207, 114]')\n",
    "        .when(_.GAP_Sts == '4', '[109, 110, 109]')\n",
    "        .else_(\"[211, 211, 211]\")  # or any other default value\n",
    "        .end()\n",
    ")\n",
    "query = ibis.to_sql(subset)\n",
    "con.raw_sql(f\"COPY ({query}) TO 's3://public-data/cache/test.json' (FORMAT JSON, ARRAY true);\")\n",
    "\n"
   ]
  },
  {
   "cell_type": "code",
   "execution_count": null,
   "id": "fa0fd16f-cb05-473f-ba20-6f8f9adbb2db",
   "metadata": {},
   "outputs": [],
   "source": [
    "url = f\"https://{endpoint}/public-data/cache/test.json\"\n"
   ]
  },
  {
   "cell_type": "code",
   "execution_count": null,
   "id": "a2a430e6-f4d0-40b3-9474-758474552084",
   "metadata": {},
   "outputs": [],
   "source": [
    "#m = leafmap.Map(style= terrain_style(), center=[-120, 37.6], zoom=4, pitch=55, bearing=20)\n",
    "m = leafmap.Map(style= \"positron\", center=[-120, 37.6], zoom=4)\n",
    "import pydeck as pdk\n",
    "\n",
    "\n",
    "layer = pdk.Layer(\"H3HexagonLayer\",\n",
    "            id=\"data\",\n",
    "            data=url,\n",
    "            get_hexagon=\"h8\",\n",
    "            pickable=True,\n",
    "            stroked=True,\n",
    "            filled=True,\n",
    "            extruded=False,\n",
    "            get_fill_color= \"rgb_color\",\n",
    "            line_width_min_pixels=1,\n",
    "            )\n",
    "\n",
    "m.add_deck_layers([layer])\n",
    "m"
   ]
  },
  {
   "cell_type": "code",
   "execution_count": null,
   "id": "9b7a1a78-b7b8-4cb8-9d2b-ee380e64b49a",
   "metadata": {},
   "outputs": [],
   "source": [
    "subset.head()"
   ]
  },
  {
   "cell_type": "code",
   "execution_count": null,
   "id": "50da69a7-d94d-4c2c-8040-a2547b69ec10",
   "metadata": {},
   "outputs": [],
   "source": [
    "\n",
    "paint = {\n",
    "        'property': 'GAP_Sts',\n",
    "        'type': 'categorical',\n",
    "        'stops': [\n",
    "            [\"1\", \"#26633d\"],\n",
    "            [\"2\", \"#879647\"],\n",
    "            [\"3\", \"#BBBBBB\"],\n",
    "            [\"4\", \"#F8F8F8\"],\n",
    "        ]\n",
    "        }\n",
    "pad_style = {\n",
    "    \"version\": 8,\n",
    "    \"sources\": {\n",
    "        \"pad\": {\n",
    "            \"type\": \"vector\",\n",
    "            \"url\": \"pmtiles://\" + pad_pmtiles,\n",
    "            \"attribution\": \"US PAD v4\"\n",
    "        },\n",
    "    },\n",
    "    \"layers\": [{\n",
    "            \"id\": \"public\",\n",
    "            \"source\": \"pad\",\n",
    "            \"source-layer\": \"padus4\",\n",
    "            \"type\": \"fill\",\n",
    "            'filter': ['in', ['get', 'GAP_Sts'], [\"literal\", gap_codes]],\n",
    "            \"paint\": {\n",
    "                \"fill-color\": paint,\n",
    "                \"fill-opacity\": 0.5\n",
    "            }\n",
    "        }]}\n",
    "m = leafmap.Map(style = \"positron\")\n",
    "m.add_pmtiles(pad_pmtiles,  style=pad_style, opacity=0.5, tooltip=True, fit_bounds=True)\n",
    "\n",
    "m"
   ]
  },
  {
   "cell_type": "code",
   "execution_count": null,
   "id": "a6080cc7-ac0b-41dd-9768-59784bcb41f9",
   "metadata": {},
   "outputs": [],
   "source": [
    "\n"
   ]
  },
  {
   "cell_type": "code",
   "execution_count": null,
   "id": "9332b0a9-f523-403f-8d0b-1743bfd21c3f",
   "metadata": {},
   "outputs": [],
   "source": [
    "import ibis\n",
    "from ibis import _\n",
    "con = ibis.duckdb.connect()\n",
    "\n",
    "(con\n",
    " .read_parquet(\"https://minio.carlboettiger.info/public-biodiversity/pad-us-4/pad-us-4.parquet\")\n",
    " .filter(_.State_Nm == \"CA\")\n",
    " .group_by(_.GAP_Sts)\n",
    " .agg(acres = _.GIS_Acres.sum())\n",
    " .order_by(_.GAP_Sts)\n",
    " .execute()\n",
    ")"
   ]
  }
 ],
 "metadata": {
  "kernelspec": {
   "display_name": "Python 3 (ipykernel)",
   "language": "python",
   "name": "python3"
  },
  "language_info": {
   "codemirror_mode": {
    "name": "ipython",
    "version": 3
   },
   "file_extension": ".py",
   "mimetype": "text/x-python",
   "name": "python",
   "nbconvert_exporter": "python",
   "pygments_lexer": "ipython3",
   "version": "3.12.10"
  }
 },
 "nbformat": 4,
 "nbformat_minor": 5
}
