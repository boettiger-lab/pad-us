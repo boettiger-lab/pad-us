{
 "cells": [
  {
   "cell_type": "code",
   "execution_count": null,
   "metadata": {},
   "outputs": [
    {
     "data": {
      "text/plain": [
       "<duckdb.duckdb.DuckDBPyConnection at 0x77d2b88efaf0>"
      ]
     },
     "execution_count": 1,
     "metadata": {},
     "output_type": "execute_result"
    }
   ],
   "source": [
    "from cng.utils import *\n",
    "\n",
    "duckdb_install_h3()\n",
    "\n",
    "import ibis\n",
    "from ibis import _\n",
    "con = ibis.duckdb.connect(extensions = [\"spatial\", \"h3\"])\n",
    "\n",
    "import streamlit as st\n",
    "set_secrets(con, st.secrets[\"MINIO_KEY\"], st.secrets[\"MINIO_SECRET\"])\n",
    "\n",
    "\n",
    "parquet = \"https://minio.carlboettiger.info/public-data/social-vulnerability/2022/SVI2022_US_tract.parquet\" # faster with local\n",
    "con.raw_sql(f\"CREATE  OR REPLACE VIEW svi AS SELECT FIPS, Shape AS geom FROM '{parquet}'\")"
   ]
  },
  {
   "cell_type": "code",
   "execution_count": 101,
   "metadata": {},
   "outputs": [],
   "source": [
    "# con.read_parquet(parquet).select(\"FIPS\", \"Shape\").head().execute()"
   ]
  },
  {
   "cell_type": "code",
   "execution_count": null,
   "metadata": {},
   "outputs": [],
   "source": [
    "# some multipolygons are multi!  oh well we are going with the first one\n",
    "# consider a better way\n",
    "svi_n = con.sql(f'select  ST_NumGeometries(geom) AS n from svi').execute()\n",
    "svi_n[svi_n.n > 1].shape"
   ]
  },
  {
   "cell_type": "code",
   "execution_count": null,
   "metadata": {},
   "outputs": [],
   "source": [
    "con.sql(f'''\n",
    "WITH t1 AS (\n",
    "SELECT FIPS, \n",
    "       h3_polygon_wkt_to_cells_string(\n",
    "         ST_Dump(geom)[1].geom, 11\n",
    "       ) AS geom \n",
    "FROM svi)\n",
    "SELECT FIPS, UNNEST(geom) FROM t1\n",
    "''').to_parquet(\"s3://public-data/social-vulnerability/2022/2022-tract-h3.parquet\")\n"
   ]
  },
  {
   "cell_type": "code",
   "execution_count": 71,
   "metadata": {},
   "outputs": [
    {
     "data": {
      "text/plain": [
       "<duckdb.duckdb.DuckDBPyConnection at 0x7ae3043a9b70>"
      ]
     },
     "execution_count": 71,
     "metadata": {},
     "output_type": "execute_result"
    }
   ],
   "source": [
    "parquet = 'https://minio.carlboettiger.info/public-biodiversity/pad-us-4/pad-us-4.parquet'\n",
    "con.raw_sql(f\"CREATE  OR REPLACE VIEW pad4 AS SELECT * FROM '{parquet}'\")"
   ]
  },
  {
   "cell_type": "code",
   "execution_count": 20,
   "metadata": {},
   "outputs": [
    {
     "data": {
      "application/vnd.jupyter.widget-view+json": {
       "model_id": "9516609faca2466fb8af9e1f0f94fe3b",
       "version_major": 2,
       "version_minor": 0
      },
      "text/plain": [
       "FloatProgress(value=0.0, layout=Layout(width='auto'), style=ProgressStyle(bar_color='black'))"
      ]
     },
     "metadata": {},
     "output_type": "display_data"
    },
    {
     "data": {
      "text/html": [
       "<div>\n",
       "<style scoped>\n",
       "    .dataframe tbody tr th:only-of-type {\n",
       "        vertical-align: middle;\n",
       "    }\n",
       "\n",
       "    .dataframe tbody tr th {\n",
       "        vertical-align: top;\n",
       "    }\n",
       "\n",
       "    .dataframe thead th {\n",
       "        text-align: right;\n",
       "    }\n",
       "</style>\n",
       "<table border=\"1\" class=\"dataframe\">\n",
       "  <thead>\n",
       "    <tr style=\"text-align: right;\">\n",
       "      <th></th>\n",
       "      <th>Unit_Nm</th>\n",
       "      <th>geom</th>\n",
       "      <th>wkt</th>\n",
       "      <th>hex</th>\n",
       "    </tr>\n",
       "  </thead>\n",
       "  <tbody>\n",
       "    <tr>\n",
       "      <th>0</th>\n",
       "      <td>Laguna Cartagena National Wildlife Refuge</td>\n",
       "      <td>MULTIPOLYGON (((-67.10254 18.00731, -67.10250 ...</td>\n",
       "      <td>MULTIPOLYGON (((-67.10253834030667 18.00731279...</td>\n",
       "      <td>[]</td>\n",
       "    </tr>\n",
       "    <tr>\n",
       "      <th>1</th>\n",
       "      <td>Servidumbre de Conservación Finca María Luisa</td>\n",
       "      <td>MULTIPOLYGON (((-67.10363 17.99423, -67.10309 ...</td>\n",
       "      <td>MULTIPOLYGON (((-67.10363327130425 17.99423254...</td>\n",
       "      <td>[]</td>\n",
       "    </tr>\n",
       "    <tr>\n",
       "      <th>2</th>\n",
       "      <td>Servidumbre Escénica Montes Oscuros</td>\n",
       "      <td>MULTIPOLYGON (((-66.27890 18.06995, -66.27151 ...</td>\n",
       "      <td>MULTIPOLYGON (((-66.2789017031728 18.069949956...</td>\n",
       "      <td>[]</td>\n",
       "    </tr>\n",
       "    <tr>\n",
       "      <th>3</th>\n",
       "      <td>Servidumbre de Conservación Siembra Tres Vidas</td>\n",
       "      <td>MULTIPOLYGON (((-66.25836 18.09915, -66.25844 ...</td>\n",
       "      <td>MULTIPOLYGON (((-66.25836132618844 18.09914574...</td>\n",
       "      <td>[]</td>\n",
       "    </tr>\n",
       "    <tr>\n",
       "      <th>4</th>\n",
       "      <td>Servidumbre de Conservación Centro Espríritu S...</td>\n",
       "      <td>MULTIPOLYGON (((-66.26600 18.16632, -66.26599 ...</td>\n",
       "      <td>MULTIPOLYGON (((-66.26600302969746 18.16632152...</td>\n",
       "      <td>[]</td>\n",
       "    </tr>\n",
       "  </tbody>\n",
       "</table>\n",
       "</div>"
      ],
      "text/plain": [
       "                                             Unit_Nm  \\\n",
       "0          Laguna Cartagena National Wildlife Refuge   \n",
       "1      Servidumbre de Conservación Finca María Luisa   \n",
       "2                Servidumbre Escénica Montes Oscuros   \n",
       "3     Servidumbre de Conservación Siembra Tres Vidas   \n",
       "4  Servidumbre de Conservación Centro Espríritu S...   \n",
       "\n",
       "                                                geom  \\\n",
       "0  MULTIPOLYGON (((-67.10254 18.00731, -67.10250 ...   \n",
       "1  MULTIPOLYGON (((-67.10363 17.99423, -67.10309 ...   \n",
       "2  MULTIPOLYGON (((-66.27890 18.06995, -66.27151 ...   \n",
       "3  MULTIPOLYGON (((-66.25836 18.09915, -66.25844 ...   \n",
       "4  MULTIPOLYGON (((-66.26600 18.16632, -66.26599 ...   \n",
       "\n",
       "                                                 wkt hex  \n",
       "0  MULTIPOLYGON (((-67.10253834030667 18.00731279...  []  \n",
       "1  MULTIPOLYGON (((-67.10363327130425 17.99423254...  []  \n",
       "2  MULTIPOLYGON (((-66.2789017031728 18.069949956...  []  \n",
       "3  MULTIPOLYGON (((-66.25836132618844 18.09914574...  []  \n",
       "4  MULTIPOLYGON (((-66.26600302969746 18.16632152...  []  "
      ]
     },
     "execution_count": 20,
     "metadata": {},
     "output_type": "execute_result"
    }
   ],
   "source": [
    "\n",
    "expr = ( pad4\n",
    "  .select(_.Unit_Nm, _.geom).head()\n",
    "  .mutate(wkt = _.geom.as_text(),\n",
    "          hex = h3_polygon_wkt_to_cells_string(_.geom, 11)\n",
    "          )\n",
    ")\n",
    "\n",
    "#ibis.to_sql(expr)\n",
    "expr.execute()"
   ]
  },
  {
   "cell_type": "code",
   "execution_count": null,
   "metadata": {},
   "outputs": [],
   "source": []
  }
 ],
 "metadata": {
  "kernelspec": {
   "display_name": "base",
   "language": "python",
   "name": "python3"
  },
  "language_info": {
   "codemirror_mode": {
    "name": "ipython",
    "version": 3
   },
   "file_extension": ".py",
   "mimetype": "text/x-python",
   "name": "python",
   "nbconvert_exporter": "python",
   "pygments_lexer": "ipython3",
   "version": "3.12.8"
  }
 },
 "nbformat": 4,
 "nbformat_minor": 2
}
