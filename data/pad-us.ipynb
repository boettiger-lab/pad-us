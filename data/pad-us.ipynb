{
 "cells": [
  {
   "cell_type": "markdown",
   "id": "8d36edee-a4ff-4a72-85be-ca03b1f85084",
   "metadata": {},
   "source": [
    "# PAD-US v4\n",
    "\n",
    "U.S. Geological Survey (USGS) Gap Analysis Project (GAP), 2024, Protected Areas Database of the United States (PAD-US) 4.0: U.S. Geological Survey data release, https://doi.org/10.5066/P96WBCHS. \n",
    "\n",
    "\n"
   ]
  },
  {
   "cell_type": "code",
   "execution_count": 1,
   "id": "55105bc3",
   "metadata": {},
   "outputs": [
    {
     "name": "stdout",
     "output_type": "stream",
     "text": [
      "Collecting git+https://github.com/boettiger-lab/cng-python.git\n",
      "  Cloning https://github.com/boettiger-lab/cng-python.git to /tmp/pip-req-build-bqjf1yv8\n",
      "  Running command git clone --filter=blob:none --quiet https://github.com/boettiger-lab/cng-python.git /tmp/pip-req-build-bqjf1yv8\n",
      "  Resolved https://github.com/boettiger-lab/cng-python.git to commit eeb63624d3559fa07f76cf26e4935a1f936bc72c\n",
      "  Installing build dependencies ... \u001b[?25l-"
     ]
    }
   ],
   "source": [
    "# pip install git+https://github.com/boettiger-lab/cng-python.git\n"
   ]
  },
  {
   "cell_type": "code",
   "execution_count": 2,
   "id": "aa2e14ab-e901-45e7-8644-651316a6d4cb",
   "metadata": {},
   "outputs": [],
   "source": [
    "import ibis\n",
    "from ibis import _\n",
    "con = ibis.duckdb.connect(extensions = [\"spatial\"])\n",
    "\n",
    "# s3-write permissions\n",
    "from cng.utils import set_secrets # \n",
    "import streamlit as st\n",
    "set_secrets(con, st.secrets[\"MINIO_KEY\"], st.secrets[\"MINIO_SECRET\"])\n",
    "\n"
   ]
  },
  {
   "cell_type": "code",
   "execution_count": 5,
   "id": "877935bb",
   "metadata": {},
   "outputs": [],
   "source": [
    "from pathlib import Path\n",
    "zip = \"PADUS4_0_Geodatabase.zip\"\n",
    "\n",
    "if Path(zip).exists():\n",
    "    import zipfile\n",
    "    with zipfile.ZipFile(zip, 'r') as zip_ref:\n",
    "        zip_ref.extractall()\n"
   ]
  },
  {
   "cell_type": "code",
   "execution_count": 7,
   "id": "87b74013",
   "metadata": {},
   "outputs": [],
   "source": [
    "#con.sql(f\"select * from st_read_meta('{gdb}')\").execute()  # no metadata?\n",
    "# using duckdb + try_cast doesn't work either.\n",
    "gdb = \"PADUS4_0_Geodatabase.gdb\"\n",
    "layer = \"PADUS4_0Combined_Proclamation_Marine_Fee_Designation_Easement\"\n",
    "\n",
    "fgb = \"pad-us-4.fgb\"\n",
    "\n",
    "if Path(gdb).exists():\n",
    "    ## UGH, duckdb still complains 'Geometry type 11 not supported'\n",
    "    import geopandas\n",
    "    gdf = geopandas.read_file(pad_us_4_gdb,\n",
    "                layer = layer,\n",
    "                driver = \"pygrio\")\n",
    "    gdf.to_file()\n",
    "    crs = gdf.crs.to_string()"
   ]
  },
  {
   "cell_type": "code",
   "execution_count": 6,
   "id": "03406a1f",
   "metadata": {},
   "outputs": [],
   "source": [
    "# Sadly cannot do it this way\n",
    "# con.read_geo(gdb, layer = layer, keep_wkb = True).mutate(geom = SHAPE.try_cast(\"geometry\")).to_parquet('test.parquet')\n"
   ]
  },
  {
   "cell_type": "code",
   "execution_count": 8,
   "id": "2e1c227b-599b-4883-be18-a9ae1ca1728f",
   "metadata": {},
   "outputs": [],
   "source": [
    "# Geometry type 11 not supported\n",
    "# SELECT TRY_CAST(wkb_geometry AS GEOMETRY) FROM st_read('some_dataset.fgb', keep_wkb := true);\n",
    "\n",
    "# use fgb from geopandas instead\n",
    "\n",
    "if Path(fgb).exists():\n",
    "    (\n",
    "        con\n",
    "        .read_geo(\"pad-us-4.fgb\")\n",
    "        .mutate(geom = _.geom.convert('ESRI:102039', 'EPSG:4326'))\n",
    "        .filter((_.FeatClass.isin([\"Easement\", \"Fee\"])) | (\n",
    "            (_.FeatClass == \"Proclamation\") & (_.Mang_Name == \"TRIB\"))\n",
    "            )\n",
    "        .to_parquet('s3://public-biodiversity/pad-us-4/pad-us-4.parquet')\n",
    "    )\n"
   ]
  },
  {
   "cell_type": "code",
   "execution_count": 12,
   "id": "c741ba7b-2d44-45ee-9021-f515382a4ff5",
   "metadata": {},
   "outputs": [],
   "source": [
    "# And here we go\n",
    "\"https://data.source.coop/cboettig/social-vulnerability/2022/SVI2022_US_tract.parquet\"\n",
    "svi = \"s3://public-data/social-vulnerability/2022/SVI2022_US_tract.parquet\" # faster with local\n",
    "\n",
    "t1 = con.read_parquet(svi, \"svi\").select(_.ST_ABBR, _.STATE, _.FIPS, _.RPL_THEMES,  _.Shape, _.Shape_Area).rename(geom = \"Shape\")\n",
    "t2 = con.read_parquet('s3://public-biodiversity/pad-us-4/pad-us-4.parquet').select(_.Unit_Nm, _.geom)"
   ]
  },
  {
   "cell_type": "code",
   "execution_count": null,
   "id": "ceac9108-19d3-4419-9779-50a6e4801ff2",
   "metadata": {},
   "outputs": [
    {
     "data": {
      "application/vnd.jupyter.widget-view+json": {
       "model_id": "bbe92c56435f4836919bb02e37f1a3d8",
       "version_major": 2,
       "version_minor": 0
      },
      "text/plain": [
       "FloatProgress(value=0.0, layout=Layout(width='auto'), style=ProgressStyle(bar_color='black'))"
      ]
     },
     "metadata": {},
     "output_type": "display_data"
    }
   ],
   "source": [
    "(t1\n",
    " .left_join(t2, t1.geom.intersects(t2.geom))\n",
    " .to_parquet(\"s3://public-biodiversity/pad-us-4/pad-by-tract.parquet\")\n",
    ")"
   ]
  },
  {
   "cell_type": "code",
   "execution_count": 24,
   "id": "4a724c80-64d2-42c8-9b13-0f20819a2aca",
   "metadata": {},
   "outputs": [
    {
     "data": {
      "application/vnd.jupyter.widget-view+json": {
       "model_id": "1b234d3b373344e99a0f5e420b6153f7",
       "version_major": 2,
       "version_minor": 0
      },
      "text/plain": [
       "FloatProgress(value=0.0, layout=Layout(width='auto'), style=ProgressStyle(bar_color='black'))"
      ]
     },
     "metadata": {},
     "output_type": "display_data"
    },
    {
     "name": "stdout",
     "output_type": "stream",
     "text": [
      "CPU times: user 18h 32min 3s, sys: 21.7 s, total: 18h 32min 24s\n",
      "Wall time: 9h 16min 32s\n"
     ]
    }
   ],
   "source": [
    "(t1\n",
    " .right_join(t2, t1.geom.intersects(t2.geom))\n",
    " .to_parquet(\"s3://public-biodiversity/pad-us-4/tract-by-pad.parquet\")\n",
    ")"
   ]
  },
  {
   "cell_type": "code",
   "execution_count": 28,
   "id": "7a414909-26cc-4185-bac0-5a00705704a7",
   "metadata": {},
   "outputs": [
    {
     "data": {
      "text/plain": [
       "(84120, 414767)"
      ]
     },
     "execution_count": 28,
     "metadata": {},
     "output_type": "execute_result"
    }
   ],
   "source": [
    "t1.count().execute(), t2.count().execute()"
   ]
  },
  {
   "cell_type": "code",
   "execution_count": 9,
   "id": "1d345353-4fb4-4e4a-a50a-2521d6ac448e",
   "metadata": {},
   "outputs": [],
   "source": [
    "# use ST number to get congressional districts\n",
    "# https://www2.census.gov/geo/tiger/TIGER2024/CD/tl_2024_56_cd119.zip"
   ]
  }
 ],
 "metadata": {
  "kernelspec": {
   "display_name": "base",
   "language": "python",
   "name": "python3"
  },
  "language_info": {
   "codemirror_mode": {
    "name": "ipython",
    "version": 3
   },
   "file_extension": ".py",
   "mimetype": "text/x-python",
   "name": "python",
   "nbconvert_exporter": "python",
   "pygments_lexer": "ipython3",
   "version": "3.12.8"
  }
 },
 "nbformat": 4,
 "nbformat_minor": 5
}
