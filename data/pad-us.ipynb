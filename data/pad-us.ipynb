{
 "cells": [
  {
   "cell_type": "markdown",
   "id": "8d36edee-a4ff-4a72-85be-ca03b1f85084",
   "metadata": {},
   "source": [
    "# PAD-US v4\n",
    "\n",
    "U.S. Geological Survey (USGS) Gap Analysis Project (GAP), 2024, Protected Areas Database of the United States (PAD-US) 4.0: U.S. Geological Survey data release, https://doi.org/10.5066/P96WBCHS. \n",
    "\n",
    "\n"
   ]
  },
  {
   "cell_type": "code",
   "execution_count": 5,
   "id": "aa2e14ab-e901-45e7-8644-651316a6d4cb",
   "metadata": {},
   "outputs": [],
   "source": [
    "import ibis\n",
    "from ibis import _\n",
    "con = ibis.duckdb.connect(extensions = [\"spatial\"])\n",
    "\n",
    "# s3-write permissions\n",
    "from cng.utils import set_secrets\n",
    "import streamlit as st\n",
    "set_secrets(con, st.secrets[\"MINIO_KEY\"], st.secrets[\"MINIO_SECRET\"])\n",
    "\n"
   ]
  },
  {
   "cell_type": "code",
   "execution_count": null,
   "id": "877935bb",
   "metadata": {},
   "outputs": [],
   "source": [
    "import zipfile\n",
    "zip = \"../PADUS4_0_Geodatabase.zip\"\n",
    "with zipfile.ZipFile(zip, 'r') as zip_ref:\n",
    "    zip_ref.extractall()\n"
   ]
  },
  {
   "cell_type": "code",
   "execution_count": 17,
   "id": "87b74013",
   "metadata": {},
   "outputs": [],
   "source": [
    "#con.sql(f\"select * from st_read_meta('{gdb}')\").execute()  # no metadata?\n",
    "# using duckdb + try_cast doesn't work either.\n",
    "gdb = \"../PADUS4_0_Geodatabase.gdb\"\n",
    "\n",
    "## UGH, duckdb still complains 'Geometry type 11 not supported'\n",
    "import geopandas\n",
    "gdf = geopandas.read_file(pad_us_4_gdb,\n",
    "              layer = \"PADUS4_0Combined_Proclamation_Marine_Fee_Designation_Easement\",\n",
    "              driver = \"pygrio\")\n",
    "gdf.to_file(\"pad-us-4.fgb\")\n",
    "crs = gdf.crs.to_string()"
   ]
  },
  {
   "cell_type": "code",
   "execution_count": 17,
   "id": "03406a1f",
   "metadata": {},
   "outputs": [
    {
     "ename": "NotImplementedException",
     "evalue": "Not implemented Error: WKB Reader: Geometry type 11 not supported",
     "output_type": "error",
     "traceback": [
      "\u001b[0;31m---------------------------------------------------------------------------\u001b[0m",
      "\u001b[0;31mNotImplementedException\u001b[0m                   Traceback (most recent call last)",
      "Cell \u001b[0;32mIn[17], line 13\u001b[0m\n\u001b[1;32m      1\u001b[0m gpd \u001b[38;5;241m=\u001b[39m (\n\u001b[1;32m      2\u001b[0m     con\n\u001b[1;32m      3\u001b[0m     \u001b[38;5;241m.\u001b[39mread_geo(pad_us_4_gdb,\n\u001b[0;32m   (...)\u001b[0m\n\u001b[1;32m      6\u001b[0m     \u001b[38;5;241m.\u001b[39mmutate(geom \u001b[38;5;241m=\u001b[39m _\u001b[38;5;241m.\u001b[39mSHAPE\u001b[38;5;241m.\u001b[39mtry_cast(\u001b[38;5;124m\"\u001b[39m\u001b[38;5;124mgeometry\u001b[39m\u001b[38;5;124m\"\u001b[39m))\n\u001b[1;32m      7\u001b[0m )\n\u001b[1;32m      9\u001b[0m layer \u001b[38;5;241m=\u001b[39m \u001b[38;5;124m\"\u001b[39m\u001b[38;5;124mPADUS4_0Combined_Proclamation_Marine_Fee_Designation_Easement\u001b[39m\u001b[38;5;124m\"\u001b[39m\n\u001b[1;32m     10\u001b[0m \u001b[43mcon\u001b[49m\u001b[38;5;241;43m.\u001b[39;49m\u001b[43msql\u001b[49m\u001b[43m(\u001b[49m\u001b[38;5;124;43mf\u001b[39;49m\u001b[38;5;124;43m'''\u001b[39;49m\n\u001b[1;32m     11\u001b[0m \u001b[38;5;124;43mSELECT TRY_CAST(SHAPE AS GEOMETRY)\u001b[39;49m\n\u001b[1;32m     12\u001b[0m \u001b[38;5;124;43m  FROM st_read(\u001b[39;49m\u001b[38;5;124;43m'\u001b[39;49m\u001b[38;5;132;43;01m{\u001b[39;49;00m\u001b[43mgdb\u001b[49m\u001b[38;5;132;43;01m}\u001b[39;49;00m\u001b[38;5;124;43m'\u001b[39;49m\u001b[38;5;124;43m, keep_wkb := true, layer = \u001b[39;49m\u001b[38;5;124;43m'\u001b[39;49m\u001b[38;5;132;43;01m{\u001b[39;49;00m\u001b[43mlayer\u001b[49m\u001b[38;5;132;43;01m}\u001b[39;49;00m\u001b[38;5;124;43m'\u001b[39;49m\u001b[38;5;124;43m)\u001b[39;49m\n\u001b[0;32m---> 13\u001b[0m \u001b[38;5;124;43m'''\u001b[39;49m\u001b[43m)\u001b[49m\u001b[38;5;241;43m.\u001b[39;49m\u001b[43mto_parquet\u001b[49m\u001b[43m(\u001b[49m\u001b[38;5;124;43m'\u001b[39;49m\u001b[38;5;124;43mtest.parquet\u001b[39;49m\u001b[38;5;124;43m'\u001b[39;49m\u001b[43m)\u001b[49m\n",
      "File \u001b[0;32m/opt/conda/lib/python3.12/site-packages/ibis/expr/types/core.py:608\u001b[0m, in \u001b[0;36mExpr.to_parquet\u001b[0;34m(self, path, params, **kwargs)\u001b[0m\n\u001b[1;32m    563\u001b[0m \u001b[38;5;129m@experimental\u001b[39m\n\u001b[1;32m    564\u001b[0m \u001b[38;5;28;01mdef\u001b[39;00m\u001b[38;5;250m \u001b[39m\u001b[38;5;21mto_parquet\u001b[39m(\n\u001b[1;32m    565\u001b[0m     \u001b[38;5;28mself\u001b[39m,\n\u001b[0;32m   (...)\u001b[0m\n\u001b[1;32m    569\u001b[0m     \u001b[38;5;241m*\u001b[39m\u001b[38;5;241m*\u001b[39mkwargs: Any,\n\u001b[1;32m    570\u001b[0m ) \u001b[38;5;241m-\u001b[39m\u001b[38;5;241m>\u001b[39m \u001b[38;5;28;01mNone\u001b[39;00m:\n\u001b[1;32m    571\u001b[0m \u001b[38;5;250m    \u001b[39m\u001b[38;5;124;03m\"\"\"Write the results of executing the given expression to a parquet file.\u001b[39;00m\n\u001b[1;32m    572\u001b[0m \n\u001b[1;32m    573\u001b[0m \u001b[38;5;124;03m    This method is eager and will execute the associated expression\u001b[39;00m\n\u001b[0;32m   (...)\u001b[0m\n\u001b[1;32m    606\u001b[0m \u001b[38;5;124;03m    :::\u001b[39;00m\n\u001b[1;32m    607\u001b[0m \u001b[38;5;124;03m    \"\"\"\u001b[39;00m\n\u001b[0;32m--> 608\u001b[0m     \u001b[38;5;28;43mself\u001b[39;49m\u001b[38;5;241;43m.\u001b[39;49m\u001b[43m_find_backend\u001b[49m\u001b[43m(\u001b[49m\u001b[43muse_default\u001b[49m\u001b[38;5;241;43m=\u001b[39;49m\u001b[38;5;28;43;01mTrue\u001b[39;49;00m\u001b[43m)\u001b[49m\u001b[38;5;241;43m.\u001b[39;49m\u001b[43mto_parquet\u001b[49m\u001b[43m(\u001b[49m\u001b[38;5;28;43mself\u001b[39;49m\u001b[43m,\u001b[49m\u001b[43m \u001b[49m\u001b[43mpath\u001b[49m\u001b[43m,\u001b[49m\u001b[43m \u001b[49m\u001b[38;5;241;43m*\u001b[39;49m\u001b[38;5;241;43m*\u001b[39;49m\u001b[43mkwargs\u001b[49m\u001b[43m)\u001b[49m\n",
      "File \u001b[0;32m/opt/conda/lib/python3.12/site-packages/ibis/backends/duckdb/__init__.py:1550\u001b[0m, in \u001b[0;36mBackend.to_parquet\u001b[0;34m(self, expr, path, params, **kwargs)\u001b[0m\n\u001b[1;32m   1548\u001b[0m args \u001b[38;5;241m=\u001b[39m [\u001b[38;5;124m\"\u001b[39m\u001b[38;5;124mFORMAT \u001b[39m\u001b[38;5;124m'\u001b[39m\u001b[38;5;124mparquet\u001b[39m\u001b[38;5;124m'\u001b[39m\u001b[38;5;124m\"\u001b[39m, \u001b[38;5;241m*\u001b[39m(\u001b[38;5;124mf\u001b[39m\u001b[38;5;124m\"\u001b[39m\u001b[38;5;132;01m{\u001b[39;00mk\u001b[38;5;241m.\u001b[39mupper()\u001b[38;5;132;01m}\u001b[39;00m\u001b[38;5;124m \u001b[39m\u001b[38;5;132;01m{\u001b[39;00mv\u001b[38;5;132;01m!r}\u001b[39;00m\u001b[38;5;124m\"\u001b[39m \u001b[38;5;28;01mfor\u001b[39;00m k, v \u001b[38;5;129;01min\u001b[39;00m kwargs\u001b[38;5;241m.\u001b[39mitems())]\n\u001b[1;32m   1549\u001b[0m copy_cmd \u001b[38;5;241m=\u001b[39m \u001b[38;5;124mf\u001b[39m\u001b[38;5;124m\"\u001b[39m\u001b[38;5;124mCOPY (\u001b[39m\u001b[38;5;132;01m{\u001b[39;00mquery\u001b[38;5;132;01m}\u001b[39;00m\u001b[38;5;124m) TO \u001b[39m\u001b[38;5;132;01m{\u001b[39;00m\u001b[38;5;28mstr\u001b[39m(path)\u001b[38;5;132;01m!r}\u001b[39;00m\u001b[38;5;124m (\u001b[39m\u001b[38;5;132;01m{\u001b[39;00m\u001b[38;5;124m'\u001b[39m\u001b[38;5;124m, \u001b[39m\u001b[38;5;124m'\u001b[39m\u001b[38;5;241m.\u001b[39mjoin(args)\u001b[38;5;132;01m}\u001b[39;00m\u001b[38;5;124m)\u001b[39m\u001b[38;5;124m\"\u001b[39m\n\u001b[0;32m-> 1550\u001b[0m \u001b[38;5;28;01mwith\u001b[39;00m \u001b[38;5;28mself\u001b[39m\u001b[38;5;241m.\u001b[39m_safe_raw_sql(copy_cmd):\n\u001b[1;32m   1551\u001b[0m     \u001b[38;5;28;01mpass\u001b[39;00m\n",
      "File \u001b[0;32m/opt/conda/lib/python3.12/contextlib.py:137\u001b[0m, in \u001b[0;36m_GeneratorContextManager.__enter__\u001b[0;34m(self)\u001b[0m\n\u001b[1;32m    135\u001b[0m \u001b[38;5;28;01mdel\u001b[39;00m \u001b[38;5;28mself\u001b[39m\u001b[38;5;241m.\u001b[39margs, \u001b[38;5;28mself\u001b[39m\u001b[38;5;241m.\u001b[39mkwds, \u001b[38;5;28mself\u001b[39m\u001b[38;5;241m.\u001b[39mfunc\n\u001b[1;32m    136\u001b[0m \u001b[38;5;28;01mtry\u001b[39;00m:\n\u001b[0;32m--> 137\u001b[0m     \u001b[38;5;28;01mreturn\u001b[39;00m \u001b[38;5;28;43mnext\u001b[39;49m\u001b[43m(\u001b[49m\u001b[38;5;28;43mself\u001b[39;49m\u001b[38;5;241;43m.\u001b[39;49m\u001b[43mgen\u001b[49m\u001b[43m)\u001b[49m\n\u001b[1;32m    138\u001b[0m \u001b[38;5;28;01mexcept\u001b[39;00m \u001b[38;5;167;01mStopIteration\u001b[39;00m:\n\u001b[1;32m    139\u001b[0m     \u001b[38;5;28;01mraise\u001b[39;00m \u001b[38;5;167;01mRuntimeError\u001b[39;00m(\u001b[38;5;124m\"\u001b[39m\u001b[38;5;124mgenerator didn\u001b[39m\u001b[38;5;124m'\u001b[39m\u001b[38;5;124mt yield\u001b[39m\u001b[38;5;124m\"\u001b[39m) \u001b[38;5;28;01mfrom\u001b[39;00m\u001b[38;5;250m \u001b[39m\u001b[38;5;28;01mNone\u001b[39;00m\n",
      "File \u001b[0;32m/opt/conda/lib/python3.12/site-packages/ibis/backends/duckdb/__init__.py:323\u001b[0m, in \u001b[0;36mBackend._safe_raw_sql\u001b[0;34m(self, *args, **kwargs)\u001b[0m\n\u001b[1;32m    321\u001b[0m \u001b[38;5;129m@contextlib\u001b[39m\u001b[38;5;241m.\u001b[39mcontextmanager\n\u001b[1;32m    322\u001b[0m \u001b[38;5;28;01mdef\u001b[39;00m\u001b[38;5;250m \u001b[39m\u001b[38;5;21m_safe_raw_sql\u001b[39m(\u001b[38;5;28mself\u001b[39m, \u001b[38;5;241m*\u001b[39margs, \u001b[38;5;241m*\u001b[39m\u001b[38;5;241m*\u001b[39mkwargs):\n\u001b[0;32m--> 323\u001b[0m     \u001b[38;5;28;01myield\u001b[39;00m \u001b[38;5;28;43mself\u001b[39;49m\u001b[38;5;241;43m.\u001b[39;49m\u001b[43mraw_sql\u001b[49m\u001b[43m(\u001b[49m\u001b[38;5;241;43m*\u001b[39;49m\u001b[43margs\u001b[49m\u001b[43m,\u001b[49m\u001b[43m \u001b[49m\u001b[38;5;241;43m*\u001b[39;49m\u001b[38;5;241;43m*\u001b[39;49m\u001b[43mkwargs\u001b[49m\u001b[43m)\u001b[49m\n",
      "File \u001b[0;32m/opt/conda/lib/python3.12/site-packages/ibis/backends/duckdb/__init__.py:97\u001b[0m, in \u001b[0;36mBackend.raw_sql\u001b[0;34m(self, query, **kwargs)\u001b[0m\n\u001b[1;32m     95\u001b[0m \u001b[38;5;28;01mwith\u001b[39;00m contextlib\u001b[38;5;241m.\u001b[39msuppress(\u001b[38;5;167;01mAttributeError\u001b[39;00m):\n\u001b[1;32m     96\u001b[0m     query \u001b[38;5;241m=\u001b[39m query\u001b[38;5;241m.\u001b[39msql(dialect\u001b[38;5;241m=\u001b[39m\u001b[38;5;28mself\u001b[39m\u001b[38;5;241m.\u001b[39mname)\n\u001b[0;32m---> 97\u001b[0m \u001b[38;5;28;01mreturn\u001b[39;00m \u001b[38;5;28;43mself\u001b[39;49m\u001b[38;5;241;43m.\u001b[39;49m\u001b[43mcon\u001b[49m\u001b[38;5;241;43m.\u001b[39;49m\u001b[43mexecute\u001b[49m\u001b[43m(\u001b[49m\u001b[43mquery\u001b[49m\u001b[43m,\u001b[49m\u001b[43m \u001b[49m\u001b[38;5;241;43m*\u001b[39;49m\u001b[38;5;241;43m*\u001b[39;49m\u001b[43mkwargs\u001b[49m\u001b[43m)\u001b[49m\n",
      "\u001b[0;31mNotImplementedException\u001b[0m: Not implemented Error: WKB Reader: Geometry type 11 not supported"
     ]
    }
   ],
   "source": [
    "\n",
    "\n",
    "layer = \"PADUS4_0Combined_Proclamation_Marine_Fee_Designation_Easement\"\n",
    "con.sql(f'''\n",
    "SELECT TRY_CAST(SHAPE AS GEOMETRY)\n",
    "  FROM st_read('{gdb}', keep_wkb := true, layer = '{layer}')\n",
    "''').to_parquet('test.parquet')"
   ]
  },
  {
   "cell_type": "code",
   "execution_count": null,
   "id": "2e1c227b-599b-4883-be18-a9ae1ca1728f",
   "metadata": {},
   "outputs": [
    {
     "data": {
      "application/vnd.jupyter.widget-view+json": {
       "model_id": "60b53c238ee94790a69aae1c196b3796",
       "version_major": 2,
       "version_minor": 0
      },
      "text/plain": [
       "FloatProgress(value=0.0, layout=Layout(width='auto'), style=ProgressStyle(bar_color='black'))"
      ]
     },
     "metadata": {},
     "output_type": "display_data"
    },
    {
     "data": {
      "text/html": [
       "<pre style=\"white-space:pre;overflow-x:auto;line-height:normal;font-family:Menlo,'DejaVu Sans Mono',consolas,'Courier New',monospace\">DatabaseTable: ibis_read_parquet_frtglydxivcdlgt7gtprgzlkfy\n",
       "  FeatClass    string\n",
       "  Category     string\n",
       "  Own_Type     string\n",
       "  Own_Name     string\n",
       "  Loc_Own      string\n",
       "  Mang_Type    string\n",
       "  Mang_Name    string\n",
       "  Loc_Mang     string\n",
       "  Des_Tp       string\n",
       "  Loc_Ds       string\n",
       "  Unit_Nm      string\n",
       "  Loc_Nm       string\n",
       "  State_Nm     string\n",
       "  Agg_Src      string\n",
       "  GIS_Src      string\n",
       "  Src_Date     string\n",
       "  GIS_Acres    int64\n",
       "  Source_PAID  string\n",
       "  WDPA_Cd      int64\n",
       "  Pub_Access   string\n",
       "  Access_Src   string\n",
       "  Access_Dt    string\n",
       "  GAP_Sts      string\n",
       "  GAPCdSrc     string\n",
       "  GAPCdDt      string\n",
       "  IUCN_Cat     string\n",
       "  IUCNCtSrc    string\n",
       "  IUCNCtDt     string\n",
       "  Date_Est     string\n",
       "  Comments     string\n",
       "  EsmtHldr     string\n",
       "  EHoldTyp     string\n",
       "  SHAPE_Length float64\n",
       "  SHAPE_Area   float64\n",
       "  geom         geospatial:geometry\n",
       "</pre>\n"
      ],
      "text/plain": [
       "DatabaseTable: ibis_read_parquet_frtglydxivcdlgt7gtprgzlkfy\n",
       "  FeatClass    string\n",
       "  Category     string\n",
       "  Own_Type     string\n",
       "  Own_Name     string\n",
       "  Loc_Own      string\n",
       "  Mang_Type    string\n",
       "  Mang_Name    string\n",
       "  Loc_Mang     string\n",
       "  Des_Tp       string\n",
       "  Loc_Ds       string\n",
       "  Unit_Nm      string\n",
       "  Loc_Nm       string\n",
       "  State_Nm     string\n",
       "  Agg_Src      string\n",
       "  GIS_Src      string\n",
       "  Src_Date     string\n",
       "  GIS_Acres    int64\n",
       "  Source_PAID  string\n",
       "  WDPA_Cd      int64\n",
       "  Pub_Access   string\n",
       "  Access_Src   string\n",
       "  Access_Dt    string\n",
       "  GAP_Sts      string\n",
       "  GAPCdSrc     string\n",
       "  GAPCdDt      string\n",
       "  IUCN_Cat     string\n",
       "  IUCNCtSrc    string\n",
       "  IUCNCtDt     string\n",
       "  Date_Est     string\n",
       "  Comments     string\n",
       "  EsmtHldr     string\n",
       "  EHoldTyp     string\n",
       "  SHAPE_Length float64\n",
       "  SHAPE_Area   float64\n",
       "  geom         geospatial:geometry"
      ]
     },
     "execution_count": 22,
     "metadata": {},
     "output_type": "execute_result"
    }
   ],
   "source": [
    "# Geometry type 11 not supported\n",
    "# SELECT TRY_CAST(wkb_geometry AS GEOMETRY) FROM st_read('some_dataset.fgb', keep_wkb := true);\n",
    "\n",
    "\n",
    "gpd = (\n",
    "    con\n",
    "    .read_geo(\"pad-us-4.fgb\")\n",
    "    .mutate(geom = _.geom.convert('ESRI:102039', 'EPSG:4326'))\n",
    "    .filter((_.FeatClass.isin([\"Easement\", \"Fee\"])) | (\n",
    "           (_.FeatClass == \"Proclamation\") & (_.Mang_Name == \"TRIB\"))\n",
    "           )\n",
    "    .to_parquet('s3://public-biodiversity/pad-us-4/pad-us-4.parquet')\n",
    ")\n"
   ]
  },
  {
   "cell_type": "code",
   "execution_count": null,
   "id": "c741ba7b-2d44-45ee-9021-f515382a4ff5",
   "metadata": {},
   "outputs": [],
   "source": [
    "\n",
    "\n",
    "\"https://data.source.coop/cboettig/social-vulnerability/2022/SVI2022_US_tract.parquet\"\n",
    "svi = \"s3://public-data/social-vulnerability/2022/SVI2022_US_tract.parquet\" # faster with local\n",
    "t1 = con.read_parquet(svi, \"svi\").select(_.ST_ABBR, _.STATE, FIPS, _.RPL_THEMES,  _.Shape, _.Shape_Area).rename(geom = \"Shape\")\n",
    "t2 = con.read_parquet('s3://public-biodiversity/pad-us-4/pad-us-4.parquet').select(, _Unit_Nm, _.geom)"
   ]
  },
  {
   "cell_type": "code",
   "execution_count": 23,
   "id": "ceac9108-19d3-4419-9779-50a6e4801ff2",
   "metadata": {},
   "outputs": [
    {
     "data": {
      "application/vnd.jupyter.widget-view+json": {
       "model_id": "804f9a936eec4f4191e4dfe0fde95fff",
       "version_major": 2,
       "version_minor": 0
      },
      "text/plain": [
       "FloatProgress(value=0.0, layout=Layout(width='auto'), style=ProgressStyle(bar_color='black'))"
      ]
     },
     "metadata": {},
     "output_type": "display_data"
    },
    {
     "name": "stdout",
     "output_type": "stream",
     "text": [
      "CPU times: user 18h 50min 39s, sys: 5min 48s, total: 18h 56min 27s\n",
      "Wall time: 9h 28min 22s\n"
     ]
    }
   ],
   "source": [
    "(t1\n",
    " .left_join(t2, t1.geom.intersects(t2.geom))\n",
    " .to_parquet(\"s3://public-biodiversity/pad-us-4/pad-by-tract.parquet\")\n",
    ")"
   ]
  },
  {
   "cell_type": "code",
   "execution_count": 24,
   "id": "4a724c80-64d2-42c8-9b13-0f20819a2aca",
   "metadata": {},
   "outputs": [
    {
     "data": {
      "application/vnd.jupyter.widget-view+json": {
       "model_id": "1b234d3b373344e99a0f5e420b6153f7",
       "version_major": 2,
       "version_minor": 0
      },
      "text/plain": [
       "FloatProgress(value=0.0, layout=Layout(width='auto'), style=ProgressStyle(bar_color='black'))"
      ]
     },
     "metadata": {},
     "output_type": "display_data"
    },
    {
     "name": "stdout",
     "output_type": "stream",
     "text": [
      "CPU times: user 18h 32min 3s, sys: 21.7 s, total: 18h 32min 24s\n",
      "Wall time: 9h 16min 32s\n"
     ]
    }
   ],
   "source": [
    "(t1\n",
    " .right_join(t2, t1.geom.intersects(t2.geom))\n",
    " .to_parquet(\"s3://public-biodiversity/pad-us-4/tract-by-pad.parquet\")\n",
    ")"
   ]
  },
  {
   "cell_type": "code",
   "execution_count": 28,
   "id": "7a414909-26cc-4185-bac0-5a00705704a7",
   "metadata": {},
   "outputs": [
    {
     "data": {
      "text/plain": [
       "(84120, 414767)"
      ]
     },
     "execution_count": 28,
     "metadata": {},
     "output_type": "execute_result"
    }
   ],
   "source": [
    "t1.count().execute(), t2.count().execute()"
   ]
  },
  {
   "cell_type": "code",
   "execution_count": 9,
   "id": "1d345353-4fb4-4e4a-a50a-2521d6ac448e",
   "metadata": {},
   "outputs": [],
   "source": [
    "# use ST number to get congressional districts\n",
    "# https://www2.census.gov/geo/tiger/TIGER2024/CD/tl_2024_56_cd119.zip"
   ]
  }
 ],
 "metadata": {
  "kernelspec": {
   "display_name": "base",
   "language": "python",
   "name": "python3"
  },
  "language_info": {
   "codemirror_mode": {
    "name": "ipython",
    "version": 3
   },
   "file_extension": ".py",
   "mimetype": "text/x-python",
   "name": "python",
   "nbconvert_exporter": "python",
   "pygments_lexer": "ipython3",
   "version": "3.12.8"
  }
 },
 "nbformat": 4,
 "nbformat_minor": 5
}
